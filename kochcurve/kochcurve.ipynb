{
 "cells": [
  {
   "cell_type": "code",
   "execution_count": 1,
   "metadata": {},
   "outputs": [],
   "source": [
    "from ipywidgets import *\n",
    "from PIL import Image, ImageDraw, ImageEnhance, ImageColor\n",
    "import numpy as np\n",
    "import matplotlib.pyplot as plt\n",
    "import math\n"
   ]
  },
  {
   "cell_type": "markdown",
   "metadata": {},
   "source": [
    "# Slider"
   ]
  },
  {
   "cell_type": "markdown",
   "metadata": {},
   "source": [
    "this function creates a slider to allow number of iterations of the fractal to be adjusted. The minimum value is set to 0 with a specific case in the koch_shape function for that. The maximum value is set to 10, however due to the plot the level of detail within the fractal starts to become to finite."
   ]
  },
  {
   "cell_type": "code",
   "execution_count": 4,
   "metadata": {},
   "outputs": [
    {
     "data": {
      "application/vnd.jupyter.widget-view+json": {
       "model_id": "18f354ca039b4f40b82d016f191e2ad2",
       "version_major": 2,
       "version_minor": 0
      },
      "text/plain": [
       "interactive(children=(IntSlider(value=0, description='iterations', max=10), Output()), _dom_classes=('widget-i…"
      ]
     },
     "metadata": {},
     "output_type": "display_data"
    },
    {
     "data": {
      "text/plain": [
       "<function __main__.update>"
      ]
     },
     "execution_count": 4,
     "metadata": {},
     "output_type": "execute_result"
    }
   ],
   "source": [
    "def update(iterations):\n",
    "\n",
    "    iterations=iterations\n",
    "\n",
    "iterations = widgets.IntSlider(min = 0, max = 10,step = 1,value=0)\n",
    "interact(update,iterations=iterations,value=True)"
   ]
  },
  {
   "cell_type": "markdown",
   "metadata": {},
   "source": [
    "# Koch shape"
   ]
  },
  {
   "attachments": {
    "diagram.png": {
     "image/png": "[encoded data removed]"
    }
   },
   "cell_type": "markdown",
   "metadata": {},
   "source": [
    "![diagram.png](attachment:diagram.png)"
   ]
  },
  {
   "cell_type": "markdown",
   "metadata": {},
   "source": [
    "This function firstly, defines a case for if the number of iteration is set to 0. If this happens then an  equilateral triangle is plotted.\n",
    "To allow the Koch snowflake to be constructed the inital shape must be broken down into 3 sperate line segments that are equidistant.\n",
    "These line segments are formed from points p,x and q.\n",
    "Point x which does not lie on the line 'v' and can be found by using the rotation matrix 'R_60'.\n",
    "the matrix is formed using the library 'math, this allows sin and cos to be used to give more precise answers in the matrix.\n",
    "This rotates the point it is multiplied by 60° anti-clockwise.\n",
    "therefore by multiplying ⅓v by the rotation matrix and adding it to (⅓v+p), a point 'x' is fromed mid way between points p and q with an angle of 60° anit-clockwise.\n",
    "\n",
    "next, the three line segments are defined, these are;\n",
    "\n",
    "    p+⅓v to x,\n",
    "    x to p+⅔v,\n",
    "    p+⅔v to q."
   ]
  },
  {
   "cell_type": "code",
   "execution_count": 14,
   "metadata": {},
   "outputs": [],
   "source": [
    "def koch_shape(p, q, n):\n",
    "    if n==0:\n",
    "        plt.plot([p[0,0],q[0,0]],[p[1,0],q[1,0]],'k-') #case for n=0, equilateral triangle,plotted in black solid line \n",
    "    else:\n",
    "        \n",
    "        v=q-p \n",
    "        koch_shape(p, p+v/3,n-1) \n",
    "        \n",
    "        R_60= np.matrix([[math.cos(math.pi/3),-math.sin(math.pi/3)], #rotation matrix to rotate vectors counterclockwise 60 degrees\n",
    "                         [math.sin(math.pi/3),math.cos(math.pi/3)]])\n",
    "        #print(p,q,R_60)\n",
    "        x = p + v/3+R_60* v/3\n",
    "        #print(x)\n",
    "        koch_shape(p+v/3,x,n-1) #line 1\n",
    "        koch_shape(x,p+2*v/3,n-1) #line 2\n",
    "        koch_shape(p+2*v/3,q,n-1) #line 3"
   ]
  },
  {
   "cell_type": "markdown",
   "metadata": {},
   "source": [
    "# Snowflake"
   ]
  },
  {
   "cell_type": "markdown",
   "metadata": {},
   "source": [
    "here the arrays are set. This allows the snowflake shape to from as each point is and then plotted in a following order and with the the inclusion of the rotation matrix, each iteration causes a rotation of 60° anti-clockwise. When the line segments have each been plotted 'n-1' times the points will have joined.\n"
   ]
  },
  {
   "cell_type": "code",
   "execution_count": 12,
   "metadata": {},
   "outputs": [],
   "source": [
    "def koch_snowflake(n):\n",
    "    p= np.array([[0],[0]]) #starting of p array\n",
    "    q= np.array([[1],[0]]) #starting of q array\n",
    "    r= np.array([[0.5],[math.sqrt(3)/2]]) #starting of r array- point at top of triangle mid way\n",
    "    #print(p,q,r)\n",
    "    koch_shape(p,r,n) #order or line segments plotted rotated each iteration untill 'n'\n",
    "    koch_shape(r,q,n)\n",
    "    koch_shape(q,p,n)"
   ]
  },
  {
   "cell_type": "markdown",
   "metadata": {},
   "source": [
    "# Plot"
   ]
  },
  {
   "cell_type": "markdown",
   "metadata": {},
   "source": [
    "The 'main' part of the code calls on the function koch_snowflake for the user selected number of iterations. The graph is then plotted and saved as a .png file"
   ]
  },
  {
   "cell_type": "code",
   "execution_count": 13,
   "metadata": {},
   "outputs": [
    {
     "data": {
      "image/png": "[encoded data removed]",
      "text/plain": [
       "<matplotlib.figure.Figure at 0xaf7dea50>"
      ]
     },
     "metadata": {},
     "output_type": "display_data"
    },
    {
     "data": {
      "text/plain": [
       "<matplotlib.figure.Figure at 0xaf7de970>"
      ]
     },
     "metadata": {},
     "output_type": "display_data"
    }
   ],
   "source": [
    "n=iterations.value\n",
    "fig = plt.figure()\n",
    "koch_snowflake(n)\n",
    "plt.axis('equal')\n",
    "plt.axis('off') \n",
    "plt.show()\n",
    "plt.savefig('Koch_snowflake.png', dpi=300, bbox_inches='tight')"
   ]
  },
  {
   "cell_type": "markdown",
   "metadata": {},
   "source": [
    "# References"
   ]
  },
  {
   "cell_type": "markdown",
   "metadata": {},
   "source": [
    "[1] \"https://stackoverflow.com/questions/15367165/finding-coordinates-of-koch-curve\"\n"
   ]
  },
  {
   "cell_type": "markdown",
   "metadata": {},
   "source": [
    "[2] \"https://github.com/nature-of-code/noc-examples-processing/blob/master/chp08_fractals/Exercise_8_02_KochSnowFlake/Exercise_8_02_KochSnowFlake.pde\"\n"
   ]
  },
  {
   "cell_type": "markdown",
   "metadata": {},
   "source": [
    "[3]\"https://www.geeksforgeeks.org/koch-curve-koch-snowflake/\"\n"
   ]
  },
  {
   "cell_type": "markdown",
   "metadata": {},
   "source": [
    "[4]\"https://codereview.stackexchange.com/questions/144700/plotting-the-koch-snowflake\""
   ]
  },
  {
   "cell_type": "code",
   "execution_count": null,
   "metadata": {},
   "outputs": [],
   "source": []
  }
 ],
 "metadata": {
  "gist": {
   "data": {
    "description": "kochcurve(hardware).ipynb",
    "public": false
   },
   "id": ""
  },
  "kernelspec": {
   "display_name": "Python 3",
   "language": "python",
   "name": "python3"
  },
  "language_info": {
   "codemirror_mode": {
    "name": "ipython",
    "version": 3
   },
   "file_extension": ".py",
   "mimetype": "text/x-python",
   "name": "python",
   "nbconvert_exporter": "python",
   "pygments_lexer": "ipython3",
   "version": "3.6.5"
  }
 },
 "nbformat": 4,
 "nbformat_minor": 2
}
