{
 "cells": [
  {
   "cell_type": "markdown",
   "metadata": {},
   "source": [
    "# Sierpinski's triangle (programmable logic)"
   ]
  },
  {
   "attachments": {
    "Sierp_allign.PNG": {
     "image/png": "[encoded data removed]"
    },
    "Sierpinski_triangle.PNG": {
     "image/png": "[encoded data removed]"
    }
   },
   "cell_type": "markdown",
   "metadata": {},
   "source": [
    "This notebook will illustrate the fractal \"Sierpinski's triangle\".\n",
    "\n",
    "This fractal is created, through recursion, by halfing the size of the original triangle's height and length. \n",
    "\n",
    "![Sierpinski_triangle.PNG](attachment:Sierpinski_triangle.PNG)\n",
    "\n",
    "These new lengths are the size of our new triangles which we need 3 of. They are alligned as shown, note how the allignment has the same dimensions as the original triangle \n",
    "\n",
    "![Sierp_allign.PNG](attachment:Sierp_allign.PNG)\n",
    "\n",
    "NOTE: This Notebook makes use of the resizer IP, as seen in the Pynq community example \"Hello world resizer\". See refrences in final cell"
   ]
  },
  {
   "cell_type": "markdown",
   "metadata": {},
   "source": [
    "# Import libraries"
   ]
  },
  {
   "cell_type": "code",
   "execution_count": 1,
   "metadata": {},
   "outputs": [
    {
     "data": {
      "application/javascript": [
       "\n",
       "require(['notebook/js/codecell'], function(codecell) {\n",
       "  codecell.CodeCell.options_default.highlight_modes[\n",
       "      'magic_text/x-csrc'] = {'reg':[/^%%microblaze/]};\n",
       "  Jupyter.notebook.events.one('kernel_ready.Kernel', function(){\n",
       "      Jupyter.notebook.get_cells().map(function(cell){\n",
       "          if (cell.cell_type == 'code'){ cell.auto_highlight(); } }) ;\n",
       "  });\n",
       "});\n"
      ]
     },
     "metadata": {},
     "output_type": "display_data"
    }
   ],
   "source": [
    "from ipywidgets import *\n",
    "from PIL import Image\n",
    "import numpy as np\n",
    "from IPython.display import display\n",
    "from pynq import Xlnk\n",
    "from pynq import Overlay"
   ]
  },
  {
   "cell_type": "markdown",
   "metadata": {},
   "source": [
    "# Download resizer IP bitsream"
   ]
  },
  {
   "cell_type": "code",
   "execution_count": 2,
   "metadata": {},
   "outputs": [],
   "source": [
    "resize_design = Overlay(\n",
    "    \"../bitstream/resizer.bit\")"
   ]
  },
  {
   "cell_type": "markdown",
   "metadata": {},
   "source": [
    "Create DMA and Resizer IP objects"
   ]
  },
  {
   "cell_type": "code",
   "execution_count": 3,
   "metadata": {},
   "outputs": [],
   "source": [
    "dma = resize_design.axi_dma_0\n",
    "resizer = resize_design.resize_accel_0"
   ]
  },
  {
   "cell_type": "markdown",
   "metadata": {},
   "source": [
    "# Create an Image object using PIL in SW"
   ]
  },
  {
   "cell_type": "markdown",
   "metadata": {},
   "source": [
    "The equilateral triangle image is loaded from the folder and a PIL image object is created"
   ]
  },
  {
   "cell_type": "code",
   "execution_count": 4,
   "metadata": {},
   "outputs": [
    {
     "data": {
      "text/plain": [
       "<PixelAccess at 0xae7c8950>"
      ]
     },
     "execution_count": 4,
     "metadata": {},
     "output_type": "execute_result"
    }
   ],
   "source": [
    "image_path = \"images/mypng.png\"\n",
    "original_image = Image.open(image_path)\n",
    "original_image.load()"
   ]
  },
  {
   "cell_type": "markdown",
   "metadata": {},
   "source": [
    "# Create pixel array"
   ]
  },
  {
   "cell_type": "markdown",
   "metadata": {},
   "source": [
    "The following line is used to tell Jupyter that the image should only be 3 components wide. All components holds the same data. We select the first three components.\n",
    "\n",
    "Numpy is used to create the array of pixels"
   ]
  },
  {
   "cell_type": "code",
   "execution_count": 5,
   "metadata": {},
   "outputs": [],
   "source": [
    "input_array = np.array(original_image)[:,:,0:3]"
   ]
  },
  {
   "cell_type": "markdown",
   "metadata": {},
   "source": [
    "# Display original image"
   ]
  },
  {
   "cell_type": "code",
   "execution_count": 6,
   "metadata": {},
   "outputs": [
    {
     "data": {
      "image/png": "[encoded data removed]",
      "text/plain": [
       "<PIL.Image.Image image mode=RGB size=356x355 at 0xAE7F0CB0>"
      ]
     },
     "metadata": {},
     "output_type": "display_data"
    }
   ],
   "source": [
    "input_image = Image.fromarray(input_array)\n",
    "display(input_image)"
   ]
  },
  {
   "cell_type": "markdown",
   "metadata": {},
   "source": [
    "Note the dimensions of the original image, as the final fractal should be the same size"
   ]
  },
  {
   "cell_type": "code",
   "execution_count": 7,
   "metadata": {},
   "outputs": [
    {
     "name": "stdout",
     "output_type": "stream",
     "text": [
      "Image size: 356x355 pixels.\n"
     ]
    }
   ],
   "source": [
    "old_width, old_height = original_image.size\n",
    "print(\"Image size: {}x{} pixels.\".format(old_width, old_height))"
   ]
  },
  {
   "cell_type": "code",
   "execution_count": 8,
   "metadata": {},
   "outputs": [],
   "source": [
    "xlnk = Xlnk()   "
   ]
  },
  {
   "cell_type": "code",
   "execution_count": 9,
   "metadata": {},
   "outputs": [],
   "source": [
    "resizer.write(0x00,0x00) # reset IP"
   ]
  },
  {
   "cell_type": "markdown",
   "metadata": {},
   "source": [
    "# Create slider"
   ]
  },
  {
   "cell_type": "markdown",
   "metadata": {},
   "source": [
    "A slider is created so the user can select the number of iterations they want to execute for the fractal. To operate the slider run this cell then select desired number."
   ]
  },
  {
   "cell_type": "code",
   "execution_count": 10,
   "metadata": {},
   "outputs": [
    {
     "data": {
      "application/vnd.jupyter.widget-view+json": {
       "model_id": "998ee57e0fcc406789f5af886bc055d1",
       "version_major": 2,
       "version_minor": 0
      },
      "text/plain": [
       "interactive(children=(IntSlider(value=1, description='limit', max=10, min=1), Output()), _dom_classes=('widget…"
      ]
     },
     "metadata": {},
     "output_type": "display_data"
    }
   ],
   "source": [
    "def update(limit):\n",
    "    \n",
    "    limit = limit\n",
    "    \n",
    "    \n",
    "\n",
    "limit=widgets.IntSlider(min=1,max=10,step=1)\n",
    "\n",
    "interact(update, limit=limit);"
   ]
  },
  {
   "cell_type": "markdown",
   "metadata": {},
   "source": [
    "We now cast the slider limit value to an integer, this way it can be used for the number of times the for loop executes"
   ]
  },
  {
   "cell_type": "code",
   "execution_count": 11,
   "metadata": {},
   "outputs": [],
   "source": [
    "limitIntValue = int(limit.value)"
   ]
  },
  {
   "cell_type": "markdown",
   "metadata": {},
   "source": [
    "# Create slider to select number of iterations through fractal"
   ]
  },
  {
   "cell_type": "markdown",
   "metadata": {},
   "source": [
    "A for loop executes the recursion, depending on how many iterations are selected from the slider. \n",
    "\n",
    "The box variables are a tuple that sets the co-ordinates of the resized images. We then paste these boxes to the original image to create our fractal."
   ]
  },
  {
   "cell_type": "code",
   "execution_count": 12,
   "metadata": {},
   "outputs": [],
   "source": [
    "for n in range(limitIntValue):\n",
    "   \n",
    "    resizer.write(0x00,0x00)                     #reset IP\n",
    "    resize_factor = 2\n",
    "    \n",
    "    new_width = int(old_width/resize_factor)    #Determine new height & width for resizing\n",
    "    new_height = int(old_height/resize_factor)\n",
    "\n",
    "    resizer.write(0x10, old_height)             \n",
    "    resizer.write(0x18, old_width)\n",
    "    resizer.write(0x20, new_height)\n",
    "    resizer.write(0x28, new_width)\n",
    "        \n",
    "    in_buffer = xlnk.cma_array(shape=(old_height, old_width, 3), dtype=np.uint8, cacheable=1)\n",
    "    out_buffer = xlnk.cma_array(shape=(new_height, new_width, 3), dtype=np.uint8, cacheable=1)\n",
    "    \n",
    "    in_buffer[:,:,0:3] = np.array(original_image)[:,:,0:3]\n",
    "      \n",
    "    dma.recvchannel.transfer(out_buffer)\n",
    "    dma.sendchannel.transfer(in_buffer)\n",
    "    resizer.write(0x00,0x1) # start\n",
    "    dma.sendchannel.wait()\n",
    "    dma.recvchannel.wait()  \n",
    "    resizer.write(0x00,0x00) # reset\n",
    "    \n",
    "    xlnk.xlnk_reset()\n",
    "    \n",
    "    out_buffer.shape\n",
    "    \n",
    "    result = Image.fromarray(np.array(out_buffer, dtype=np.uint8))\n",
    "    np.array(result).shape\n",
    "   \n",
    "\n",
    "    u = int(new_width / 2)   # u and v are used for positioning the top triangle onto the peaks of the bottom two triangles\n",
    "    v = int(3 * new_width / 2)\n",
    "    \n",
    "    box = (u, 0, v, new_height)  # box co-ordinate system               \n",
    "    box2 = (0, new_height, new_width, 2 * new_height)\n",
    "    box3 = (new_width, new_height, 2 * new_width, 2 * new_height )  \n",
    "\n",
    "    original_image.paste(result, box) # Paste resized images onto original image\n",
    "    original_image.paste(result, box2)\n",
    "    original_image.paste(result, box3)"
   ]
  },
  {
   "cell_type": "markdown",
   "metadata": {},
   "source": [
    "# Display Sierpinski's triangle"
   ]
  },
  {
   "cell_type": "markdown",
   "metadata": {},
   "source": [
    "Now we can display our final fractal. Note that the size of the image is the same as the original image."
   ]
  },
  {
   "cell_type": "code",
   "execution_count": 13,
   "metadata": {},
   "outputs": [
    {
     "name": "stdout",
     "output_type": "stream",
     "text": [
      "Image size: 356x355 pixels. 2\n"
     ]
    },
    {
     "data": {
      "image/png": "[encoded data removed]",
      "text/plain": [
       "<PIL.PngImagePlugin.PngImageFile image mode=RGB size=356x355 at 0xB3A56DF0>"
      ]
     },
     "metadata": {},
     "output_type": "display_data"
    }
   ],
   "source": [
    "print(\"Image size: {}x{} pixels.\".format(old_width, old_height), Image.BILINEAR)\n",
    "display(original_image)"
   ]
  },
  {
   "cell_type": "code",
   "execution_count": 14,
   "metadata": {},
   "outputs": [
    {
     "name": "stdout",
     "output_type": "stream",
     "text": [
      "10 loops, best of 3: 59.8 ms per loop\n"
     ]
    }
   ],
   "source": [
    "%%timeit\n",
    "\n",
    "for n in range(limitIntValue):\n",
    "   \n",
    "    resizer.write(0x00,0x00)                     #reset IP\n",
    "    resize_factor = 2\n",
    "    \n",
    "    new_width = int(old_width/resize_factor)    #Determine new height & width for resizing\n",
    "    new_height = int(old_height/resize_factor)\n",
    "\n",
    "    resizer.write(0x10, old_height)             \n",
    "    resizer.write(0x18, old_width)\n",
    "    resizer.write(0x20, new_height)\n",
    "    resizer.write(0x28, new_width)\n",
    "        \n",
    "    in_buffer = xlnk.cma_array(shape=(old_height, old_width, 3), dtype=np.uint8, cacheable=1)\n",
    "    out_buffer = xlnk.cma_array(shape=(new_height, new_width, 3), dtype=np.uint8, cacheable=1)\n",
    "    \n",
    "    in_buffer[:,:,0:3] = np.array(original_image)[:,:,0:3]\n",
    "      \n",
    "    dma.recvchannel.transfer(out_buffer)\n",
    "    dma.sendchannel.transfer(in_buffer)\n",
    "    resizer.write(0x00,0x1) # start\n",
    "    dma.sendchannel.wait()\n",
    "    dma.recvchannel.wait()  \n",
    "    resizer.write(0x00,0x00) # reset\n",
    "    \n",
    "    xlnk.xlnk_reset()\n",
    "    \n",
    "    out_buffer.shape\n",
    "    \n",
    "    result = Image.fromarray(np.array(out_buffer, dtype=np.uint8))\n",
    "    np.array(result).shape\n",
    "   \n",
    "\n",
    "    u = int(new_width / 2)   # u and v are used for positioning the top triangle onto the peaks of the bottom two triangles\n",
    "    v = int(3 * new_width / 2)\n",
    "    \n",
    "    box = (u, 0, v, new_height)  # box co-ordinate system               \n",
    "    box2 = (0, new_height, new_width, 2 * new_height)\n",
    "    box3 = (new_width, new_height, 2 * new_width, 2 * new_height )  \n",
    "\n",
    "    original_image.paste(result, box) # Paste resized images onto original image\n",
    "    original_image.paste(result, box2)\n",
    "    original_image.paste(result, box3)"
   ]
  },
  {
   "cell_type": "markdown",
   "metadata": {},
   "source": [
    "# Refrences"
   ]
  },
  {
   "cell_type": "markdown",
   "metadata": {},
   "source": [
    "https://github.com/Xilinx/PYNQ-HelloWorld\n",
    "\n",
    "https://github.com/Xilinx/PYNQ/blob/master/docs/source/jupyter_notebooks_advanced_features.ipynb\n",
    "\n",
    "https://pillow.readthedocs.io/en/3.1.x/index.html\n",
    "\n",
    "https://github.com/Xilinx/PYNQ/blob/master/docs/source/python_environment.ipynb"
   ]
  }
 ],
 "metadata": {
  "kernelspec": {
   "display_name": "Python 3",
   "language": "python",
   "name": "python3"
  },
  "language_info": {
   "codemirror_mode": {
    "name": "ipython",
    "version": 3
   },
   "file_extension": ".py",
   "mimetype": "text/x-python",
   "name": "python",
   "nbconvert_exporter": "python",
   "pygments_lexer": "ipython3",
   "version": "3.6.5"
  }
 },
 "nbformat": 4,
 "nbformat_minor": 2
}
