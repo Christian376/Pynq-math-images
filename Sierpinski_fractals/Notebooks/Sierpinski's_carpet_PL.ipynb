{
 "cells": [
  {
   "cell_type": "markdown",
   "metadata": {},
   "source": [
    "# Sierpinski's carpet (Programmable logic)"
   ]
  },
  {
   "attachments": {
    "Carpet.PNG": {
     "image/png": "[encoded data removed]"
    }
   },
   "cell_type": "markdown",
   "metadata": {},
   "source": [
    "This notebook will look at creating Sierpinski's carpet, which is a fractal that works by dividing a square into 9 segments and removing the middle one. This process is then carried out recursively. \n",
    "\n",
    "![Carpet.PNG](attachment:Carpet.PNG)\n",
    "\n",
    "NOTE: This Notebook makes use of the resizer IP, as seen in the Pynq community example \"Hello world resizer\". See refrences in final cell"
   ]
  },
  {
   "cell_type": "markdown",
   "metadata": {},
   "source": [
    "# Import libraries"
   ]
  },
  {
   "cell_type": "code",
   "execution_count": 1,
   "metadata": {},
   "outputs": [
    {
     "data": {
      "application/javascript": [
       "\n",
       "require(['notebook/js/codecell'], function(codecell) {\n",
       "  codecell.CodeCell.options_default.highlight_modes[\n",
       "      'magic_text/x-csrc'] = {'reg':[/^%%microblaze/]};\n",
       "  Jupyter.notebook.events.one('kernel_ready.Kernel', function(){\n",
       "      Jupyter.notebook.get_cells().map(function(cell){\n",
       "          if (cell.cell_type == 'code'){ cell.auto_highlight(); } }) ;\n",
       "  });\n",
       "});\n"
      ]
     },
     "metadata": {},
     "output_type": "display_data"
    }
   ],
   "source": [
    "from ipywidgets import *\n",
    "from PIL import Image, ImageDraw, ImageEnhance, ImageColor\n",
    "import numpy as np\n",
    "from IPython.display import display\n",
    "from pynq import Xlnk\n",
    "from pynq import Overlay"
   ]
  },
  {
   "cell_type": "markdown",
   "metadata": {},
   "source": [
    "# Download resizer IP bitsream"
   ]
  },
  {
   "cell_type": "code",
   "execution_count": 2,
   "metadata": {},
   "outputs": [],
   "source": [
    "resize_design = Overlay(\n",
    "    \"../bitstream/resizer.bit\")"
   ]
  },
  {
   "cell_type": "markdown",
   "metadata": {},
   "source": [
    "Create DMA and Resizer IP objects"
   ]
  },
  {
   "cell_type": "code",
   "execution_count": 3,
   "metadata": {},
   "outputs": [],
   "source": [
    "dma = resize_design.axi_dma_0\n",
    "resizer = resize_design.resize_accel_0"
   ]
  },
  {
   "cell_type": "markdown",
   "metadata": {},
   "source": [
    "# Create an Image object using PIL in SW"
   ]
  },
  {
   "cell_type": "markdown",
   "metadata": {},
   "source": [
    "The square image is loaded from the folder and create a PIL image object"
   ]
  },
  {
   "cell_type": "code",
   "execution_count": 4,
   "metadata": {},
   "outputs": [
    {
     "data": {
      "text/plain": [
       "<PixelAccess at 0xae7ab9d0>"
      ]
     },
     "execution_count": 4,
     "metadata": {},
     "output_type": "execute_result"
    }
   ],
   "source": [
    "image_path = \"images/square.png\"\n",
    "original_image = Image.open(image_path)\n",
    "original_image.load()"
   ]
  },
  {
   "cell_type": "markdown",
   "metadata": {},
   "source": [
    "# Create pixel array"
   ]
  },
  {
   "cell_type": "markdown",
   "metadata": {},
   "source": [
    "The following line is used to tell Jupyter that the image should only be 3 components wide. All components holds the same data. We select the first three components.\n",
    "\n",
    "Numpy is used to create the array of pixels"
   ]
  },
  {
   "cell_type": "code",
   "execution_count": 5,
   "metadata": {},
   "outputs": [],
   "source": [
    "input_array = np.array(original_image)[:,:,0:3]"
   ]
  },
  {
   "cell_type": "markdown",
   "metadata": {},
   "source": [
    "# Display original image"
   ]
  },
  {
   "cell_type": "code",
   "execution_count": 6,
   "metadata": {},
   "outputs": [
    {
     "data": {
      "image/png": "[encoded data removed]",
      "text/plain": [
       "<PIL.Image.Image image mode=RGB size=360x360 at 0xAE9A9450>"
      ]
     },
     "metadata": {},
     "output_type": "display_data"
    }
   ],
   "source": [
    "input_image = Image.fromarray(input_array)\n",
    "display(input_image)"
   ]
  },
  {
   "cell_type": "markdown",
   "metadata": {},
   "source": [
    "Note the dimensions of the original image, as the final fractal should also be this size"
   ]
  },
  {
   "cell_type": "code",
   "execution_count": 7,
   "metadata": {},
   "outputs": [
    {
     "name": "stdout",
     "output_type": "stream",
     "text": [
      "Image size: 360x360 pixels.\n"
     ]
    }
   ],
   "source": [
    "old_width, old_height = original_image.size\n",
    "print(\"Image size: {}x{} pixels.\".format(old_width, old_height))"
   ]
  },
  {
   "cell_type": "code",
   "execution_count": 8,
   "metadata": {},
   "outputs": [],
   "source": [
    "xlnk = Xlnk()   "
   ]
  },
  {
   "cell_type": "code",
   "execution_count": 9,
   "metadata": {},
   "outputs": [],
   "source": [
    "resizer.write(0x00,0x00) # reset IP"
   ]
  },
  {
   "cell_type": "markdown",
   "metadata": {},
   "source": [
    "# Create slider "
   ]
  },
  {
   "cell_type": "markdown",
   "metadata": {},
   "source": [
    "A slider is created so the user can select the number of iterations they want to execute for the fractal.\n",
    "To operate the slider run this cell then select desired number. "
   ]
  },
  {
   "cell_type": "code",
   "execution_count": 10,
   "metadata": {},
   "outputs": [
    {
     "data": {
      "application/vnd.jupyter.widget-view+json": {
       "model_id": "cf175074781c4bde8e733a5ed25c4123",
       "version_major": 2,
       "version_minor": 0
      },
      "text/plain": [
       "interactive(children=(IntSlider(value=1, description='limit', max=10, min=1), Output()), _dom_classes=('widget…"
      ]
     },
     "metadata": {},
     "output_type": "display_data"
    }
   ],
   "source": [
    "def update(limit):\n",
    "    \n",
    "    limit = limit\n",
    "    \n",
    "    \n",
    "\n",
    "limit=widgets.IntSlider(min=1,max=10,step=1)\n",
    "\n",
    "interact(update, limit=limit);"
   ]
  },
  {
   "cell_type": "markdown",
   "metadata": {},
   "source": [
    "We now cast the slider limit value to an integer, this way it can be used for the number of times the for loop executes"
   ]
  },
  {
   "cell_type": "code",
   "execution_count": 11,
   "metadata": {},
   "outputs": [],
   "source": [
    "limitIntValue = int(limit.value)"
   ]
  },
  {
   "cell_type": "markdown",
   "metadata": {},
   "source": [
    "# Create Sierpinski's carpet"
   ]
  },
  {
   "cell_type": "markdown",
   "metadata": {},
   "source": [
    "A for loop executes the recursion, depending on how many iterations are selected from the slider. \n",
    "\n",
    "The box variables are a tuple that sets the co-ordinates of the resized images. We then paste these boxes to the original image to create our fractal.\n",
    "\n",
    "As this is the Sierpinski carpet we need to remove the middle square as mentioned previously. To do this we use a white fill on the middle box. "
   ]
  },
  {
   "cell_type": "code",
   "execution_count": 12,
   "metadata": {},
   "outputs": [],
   "source": [
    "for n in range(limitIntValue):\n",
    "           \n",
    "    resizer.write(0x00,0x00)\n",
    "    \n",
    "    # Determine new width and height for resized images\n",
    "    \n",
    "    new_width = int(old_width/3)\n",
    "    new_height = int(old_height/3)\n",
    "\n",
    "    resizer.write(0x10, old_height)\n",
    "    resizer.write(0x18, old_width)\n",
    "    resizer.write(0x20, new_height)\n",
    "    resizer.write(0x28, new_width)\n",
    "        \n",
    "    in_buffer = xlnk.cma_array(shape=(old_height, old_width, 3), dtype=np.uint8, cacheable=1)\n",
    "    out_buffer = xlnk.cma_array(shape=(new_height, new_width, 3), dtype=np.uint8, cacheable=1)\n",
    "    \n",
    "    in_buffer[:,:,0:3] = np.array(original_image)[:,:,0:3]\n",
    "      \n",
    "    dma.recvchannel.transfer(out_buffer)\n",
    "    dma.sendchannel.transfer(in_buffer)\n",
    "    resizer.write(0x00,0x1) # start\n",
    "    dma.sendchannel.wait()\n",
    "    dma.recvchannel.wait()  \n",
    "    resizer.write(0x00,0x00) # reset\n",
    "    \n",
    "    xlnk.xlnk_reset()\n",
    "    \n",
    "    out_buffer.shape\n",
    "    \n",
    "    result = Image.fromarray(np.array(out_buffer, dtype=np.uint8))\n",
    "    np.array(result).shape\n",
    "\n",
    "    # Box co-ordinate system\n",
    "    \n",
    "    box = (0, 0, new_width, new_height)\n",
    "    box2 = (new_width, 0, 2 * new_width, new_height)\n",
    "    box3 = (2 * new_width, 0, 3 * new_width, new_height)\n",
    "    box4 = (0, new_height, new_width, 2 * new_height)\n",
    "    box5 = (0, 2 * new_height, new_width, 3 * new_height)\n",
    "    box6 = (new_width, new_height, 2 * new_width, 2 * new_height)\n",
    "    box7 = (new_width, 2 * new_height, 2 * new_width, 3 * new_height)\n",
    "    box8 = (2 * new_width, new_height, 3 * new_width, 2 * new_height)\n",
    "    box9 = (2 * new_width, 2 * new_height, 3 * new_width, 3 * new_height)\n",
    "\n",
    "    #Paste resized images onto original image\n",
    "    \n",
    "    original_image.paste(result, box)\n",
    "    original_image.paste(result, box2)\n",
    "    original_image.paste(result, box3)\n",
    "    original_image.paste(result, box4)\n",
    "    original_image.paste(result, box5)\n",
    "    original_image.paste(result, box6)\n",
    "    original_image.paste(result, box7)\n",
    "    original_image.paste(result, box8)\n",
    "    original_image.paste(result, box9)\n",
    "\n",
    "    d = ImageDraw.Draw(original_image)\n",
    "\n",
    "    # Fill middle square with white color to hide it\n",
    "    \n",
    "    d.rectangle([(new_width, new_height), (2 * new_width, 2 * new_height)], fill=(255, 255, 255, 255)) "
   ]
  },
  {
   "cell_type": "markdown",
   "metadata": {},
   "source": [
    "# Display Sierpinski's carpet"
   ]
  },
  {
   "cell_type": "markdown",
   "metadata": {},
   "source": [
    "Now we can display our final fractal. Note that the size of the image is the same as the original image."
   ]
  },
  {
   "cell_type": "code",
   "execution_count": 13,
   "metadata": {},
   "outputs": [
    {
     "name": "stdout",
     "output_type": "stream",
     "text": [
      "Image size: 360x360 pixels. 2\n"
     ]
    },
    {
     "data": {
      "image/png": "[encoded data removed]",
      "text/plain": [
       "<PIL.PngImagePlugin.PngImageFile image mode=RGBA size=360x360 at 0xB4331810>"
      ]
     },
     "metadata": {},
     "output_type": "display_data"
    }
   ],
   "source": [
    "print(\"Image size: {}x{} pixels.\".format(old_width, old_height), Image.BILINEAR)\n",
    "display(original_image)"
   ]
  },
  {
   "cell_type": "code",
   "execution_count": 14,
   "metadata": {},
   "outputs": [
    {
     "name": "stdout",
     "output_type": "stream",
     "text": [
      "10 loops, best of 3: 74.1 ms per loop\n"
     ]
    }
   ],
   "source": [
    "%%timeit\n",
    "\n",
    "for n in range(limitIntValue):\n",
    "           \n",
    "    resizer.write(0x00,0x00)\n",
    "   \n",
    "    \n",
    "    # Determine new width and height for resized images\n",
    "    \n",
    "    new_width = int(old_width/3)\n",
    "    new_height = int(old_height/3)\n",
    "\n",
    "    resizer.write(0x10, old_height)\n",
    "    resizer.write(0x18, old_width)\n",
    "    resizer.write(0x20, new_height)\n",
    "    resizer.write(0x28, new_width)\n",
    "        \n",
    "    in_buffer = xlnk.cma_array(shape=(old_height, old_width, 3), dtype=np.uint8, cacheable=1)\n",
    "    out_buffer = xlnk.cma_array(shape=(new_height, new_width, 3), dtype=np.uint8, cacheable=1)\n",
    "    \n",
    "    in_buffer[:,:,0:3] = np.array(original_image)[:,:,0:3]\n",
    "      \n",
    "    dma.recvchannel.transfer(out_buffer)\n",
    "    dma.sendchannel.transfer(in_buffer)\n",
    "    resizer.write(0x00,0x1) # start\n",
    "    dma.sendchannel.wait()\n",
    "    dma.recvchannel.wait()  \n",
    "    resizer.write(0x00,0x00) # reset\n",
    "    \n",
    "    xlnk.xlnk_reset()\n",
    "    \n",
    "    out_buffer.shape\n",
    "    \n",
    "    result = Image.fromarray(np.array(out_buffer, dtype=np.uint8))\n",
    "    np.array(result).shape\n",
    "\n",
    "    # Box co-ordinate system\n",
    "    \n",
    "    box = (0, 0, new_width, new_height)\n",
    "    box2 = (new_width, 0, 2 * new_width, new_height)\n",
    "    box3 = (2 * new_width, 0, 3 * new_width, new_height)\n",
    "    box4 = (0, new_height, new_width, 2 * new_height)\n",
    "    box5 = (0, 2 * new_height, new_width, 3 * new_height)\n",
    "    box6 = (new_width, new_height, 2 * new_width, 2 * new_height)\n",
    "    box7 = (new_width, 2 * new_height, 2 * new_width, 3 * new_height)\n",
    "    box8 = (2 * new_width, new_height, 3 * new_width, 2 * new_height)\n",
    "    box9 = (2 * new_width, 2 * new_height, 3 * new_width, 3 * new_height)\n",
    "\n",
    "    #Paste resized images onto original image\n",
    "    \n",
    "    original_image.paste(result, box)\n",
    "    original_image.paste(result, box2)\n",
    "    original_image.paste(result, box3)\n",
    "    original_image.paste(result, box4)\n",
    "    original_image.paste(result, box5)\n",
    "    original_image.paste(result, box6)\n",
    "    original_image.paste(result, box7)\n",
    "    original_image.paste(result, box8)\n",
    "    original_image.paste(result, box9)\n",
    "\n",
    "    d = ImageDraw.Draw(original_image)\n",
    "\n",
    "    # Fill middle square with white color to hide it\n",
    "    \n",
    "    d.rectangle([(new_width, new_height), (2 * new_width, 2 * new_height)], fill=(255, 255, 255, 255)) "
   ]
  },
  {
   "cell_type": "markdown",
   "metadata": {},
   "source": [
    "# Refrences"
   ]
  },
  {
   "cell_type": "markdown",
   "metadata": {},
   "source": [
    "https://github.com/Xilinx/PYNQ-HelloWorld\n",
    "\n",
    "https://github.com/Xilinx/PYNQ/blob/master/docs/source/jupyter_notebooks_advanced_features.ipynb\n",
    "\n",
    "https://pillow.readthedocs.io/en/3.1.x/index.html\n",
    "\n",
    "https://github.com/Xilinx/PYNQ/blob/master/docs/source/python_environment.ipynb"
   ]
  }
 ],
 "metadata": {
  "kernelspec": {
   "display_name": "Python 3",
   "language": "python",
   "name": "python3"
  },
  "language_info": {
   "codemirror_mode": {
    "name": "ipython",
    "version": 3
   },
   "file_extension": ".py",
   "mimetype": "text/x-python",
   "name": "python",
   "nbconvert_exporter": "python",
   "pygments_lexer": "ipython3",
   "version": "3.6.5"
  }
 },
 "nbformat": 4,
 "nbformat_minor": 2
}
