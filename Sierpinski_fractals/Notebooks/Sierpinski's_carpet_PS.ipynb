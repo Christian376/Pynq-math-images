{
 "cells": [
  {
   "cell_type": "markdown",
   "metadata": {},
   "source": [
    "# Sierpinski's carpet (software)"
   ]
  },
  {
   "attachments": {
    "Carpet.PNG": {
     "image/png": "[encoded data removed]"
    }
   },
   "cell_type": "markdown",
   "metadata": {},
   "source": [
    "This notebook will look at creating Sierpinski's carpet, which is a fractal that works by dividing a square into 9 segments and removing the middle one. This process is then carried out recursively.\n",
    "\n",
    "![Carpet.PNG](attachment:Carpet.PNG)\n",
    "\n",
    "NOTE: This Notebook makes use of the resizer IP, as seen in the Pynq community example \"Hello world resizer\". See refrences in final cell"
   ]
  },
  {
   "cell_type": "markdown",
   "metadata": {},
   "source": [
    "# Import libraries"
   ]
  },
  {
   "cell_type": "code",
   "execution_count": 1,
   "metadata": {},
   "outputs": [],
   "source": [
    "from ipywidgets import *\n",
    "from PIL import Image, ImageEnhance, ImageDraw, ImageColor\n",
    "import numpy as np\n",
    "import matplotlib.pyplot as plt\n",
    "%matplotlib inline"
   ]
  },
  {
   "cell_type": "markdown",
   "metadata": {},
   "source": [
    "# Load image"
   ]
  },
  {
   "cell_type": "code",
   "execution_count": 2,
   "metadata": {},
   "outputs": [],
   "source": [
    "image_path = \"images/square.png\"\n",
    "original_image = Image.open(image_path)"
   ]
  },
  {
   "cell_type": "markdown",
   "metadata": {},
   "source": [
    "# Create canvas to display image"
   ]
  },
  {
   "cell_type": "markdown",
   "metadata": {},
   "source": [
    "Note the dimensions of the original image as the final fractal should share the same size"
   ]
  },
  {
   "cell_type": "code",
   "execution_count": 3,
   "metadata": {},
   "outputs": [
    {
     "name": "stdout",
     "output_type": "stream",
     "text": [
      "Image size: 360x360 pixels.\n"
     ]
    },
    {
     "data": {
      "image/png": "[encoded data removed]",
      "text/plain": [
       "<matplotlib.figure.Figure at 0xaf914550>"
      ]
     },
     "metadata": {},
     "output_type": "display_data"
    }
   ],
   "source": [
    "canvas = plt.gcf()\n",
    "size = canvas.get_size_inches()\n",
    "canvas.set_size_inches(size*2)\n",
    "\n",
    "old_width, old_height = original_image.size\n",
    "print(\"Image size: {}x{} pixels.\".format(old_width, old_height))\n",
    "_ = plt.imshow(original_image)"
   ]
  },
  {
   "cell_type": "markdown",
   "metadata": {},
   "source": [
    "# Create slider"
   ]
  },
  {
   "cell_type": "markdown",
   "metadata": {},
   "source": [
    "A slider is created so the user can select the number of iterations they want to execute for the fractal. To operate the slider run this cell then select desired number. "
   ]
  },
  {
   "cell_type": "code",
   "execution_count": 4,
   "metadata": {},
   "outputs": [
    {
     "data": {
      "application/vnd.jupyter.widget-view+json": {
       "model_id": "3ce39414eecc4daf9927939fdcad18fe",
       "version_major": 2,
       "version_minor": 0
      },
      "text/plain": [
       "interactive(children=(IntSlider(value=1, description='limit', max=10, min=1), Output()), _dom_classes=('widget…"
      ]
     },
     "metadata": {},
     "output_type": "display_data"
    }
   ],
   "source": [
    "def update(limit):\n",
    "    \n",
    "    limit = limit\n",
    "    \n",
    "    \n",
    "\n",
    "limit=widgets.IntSlider(min=1,max=10,step=1)\n",
    "\n",
    "interact(update, limit=limit);"
   ]
  },
  {
   "cell_type": "markdown",
   "metadata": {},
   "source": [
    "We now cast the slider limit value to an integer, this way it can be used for the number of times the for loop executes"
   ]
  },
  {
   "cell_type": "code",
   "execution_count": 5,
   "metadata": {},
   "outputs": [],
   "source": [
    "limitIntValue = int(limit.value)"
   ]
  },
  {
   "cell_type": "markdown",
   "metadata": {},
   "source": [
    "# Create Sierpinski's carpet"
   ]
  },
  {
   "cell_type": "markdown",
   "metadata": {},
   "source": [
    "A for loop executes the recursion, depending on how many iterations are selected from the slider.\n",
    "\n",
    "The box variables are a tuple that sets the co-ordinates of the resized images. We then paste these boxes to the original image to create our fractal.\n",
    "\n",
    "As this is the Sierpinski carpet we need to remove the middle square as mentioned previously. To do this we use a white fill on the middle box."
   ]
  },
  {
   "cell_type": "code",
   "execution_count": 6,
   "metadata": {},
   "outputs": [],
   "source": [
    "for n in range(limitIntValue):\n",
    "           \n",
    "            # Resize image\n",
    "            \n",
    "            new_width = int(old_width / 3)\n",
    "            new_height = int(old_height / 3)\n",
    "            \n",
    "            new = original_image.resize((new_width, new_height))\n",
    "            \n",
    "            # Box co-ordinates used to position resized images\n",
    "\n",
    "            box = (0, 0, new_width, new_height)\n",
    "            box2 = (new_width, 0, 2 * new_width, new_height)\n",
    "            box3 = (2 * new_width, 0, 3 * new_width, new_height)\n",
    "            box4 = (0, new_height, new_width, 2 * new_height)\n",
    "            box5 = (0, 2 * new_height, new_width, 3 * new_height)\n",
    "            box6 = (new_width, new_height, 2 * new_width, 2 * new_height)\n",
    "            box7 = (new_width, 2 * new_height, 2 * new_width, 3 * new_height)\n",
    "            box8 = (2 * new_width, new_height, 3 * new_width, 2 * new_height)\n",
    "            box9 = (2 * new_width, 2 * new_height, 3 * new_width, 3 * new_height)\n",
    "\n",
    "            # Paste resized images onto original image\n",
    "\n",
    "            original_image.paste(new, box)\n",
    "            original_image.paste(new, box2)\n",
    "            original_image.paste(new, box3)\n",
    "            original_image.paste(new, box4)\n",
    "            original_image.paste(new, box5)\n",
    "            original_image.paste(new, box6)\n",
    "            original_image.paste(new, box7)\n",
    "            original_image.paste(new, box8)\n",
    "            original_image.paste(new, box9)\n",
    "\n",
    "            d = ImageDraw.Draw(original_image)\n",
    "            \n",
    "            # Fill middle square white\n",
    "\n",
    "            d.rectangle([(new_width, new_height), (2 * new_width, 2 * new_height)], fill=(255, 255, 255, 255))\n",
    "          \n",
    "       "
   ]
  },
  {
   "cell_type": "markdown",
   "metadata": {},
   "source": [
    "# Display Sierpinski's carpet"
   ]
  },
  {
   "cell_type": "markdown",
   "metadata": {},
   "source": [
    "Note the dimensions of the fractal match the original image"
   ]
  },
  {
   "cell_type": "code",
   "execution_count": 7,
   "metadata": {},
   "outputs": [
    {
     "name": "stdout",
     "output_type": "stream",
     "text": [
      "Image size: 360x360 pixels.\n"
     ]
    },
    {
     "data": {
      "image/png": "[encoded data removed]",
      "text/plain": [
       "<matplotlib.figure.Figure at 0xaf8daed0>"
      ]
     },
     "metadata": {},
     "output_type": "display_data"
    }
   ],
   "source": [
    "print(\"Image size: {}x{} pixels.\".format(old_width, old_height))\n",
    "_ = plt.imshow(original_image)"
   ]
  },
  {
   "cell_type": "code",
   "execution_count": 8,
   "metadata": {},
   "outputs": [
    {
     "name": "stdout",
     "output_type": "stream",
     "text": [
      "10 loops, best of 3: 28.6 ms per loop\n"
     ]
    }
   ],
   "source": [
    "%%timeit\n",
    "\n",
    "limitIntValue = int(limit.value)\n",
    "\n",
    "\n",
    "for i in range(limitIntValue):\n",
    "            new_width = int(old_width / 3)\n",
    "            new_height = int(old_height / 3)\n",
    "\n",
    "            box = (0, 0, new_width, new_height)\n",
    "            box2 = (new_width, 0, 2 * new_width, new_height)\n",
    "            box3 = (2 * new_width, 0, 3 * new_width, new_height)\n",
    "            box4 = (0, new_height, new_width, 2 * new_height)\n",
    "            box5 = (0, 2 * new_height, new_width, 3 * new_height)\n",
    "            box6 = (new_width, new_height, 2 * new_width, 2 * new_height)\n",
    "            box7 = (new_width, 2 * new_height, 2 * new_width, 3 * new_height)\n",
    "            box8 = (2 * new_width, new_height, 3 * new_width, 2 * new_height)\n",
    "            box9 = (2 * new_width, 2 * new_height, 3 * new_width, 3 * new_height)\n",
    "\n",
    "            new = original_image.resize((new_width, new_height))\n",
    "\n",
    "            original_image.paste(new, box)\n",
    "            original_image.paste(new, box2)\n",
    "            original_image.paste(new, box3)\n",
    "            original_image.paste(new, box4)\n",
    "            original_image.paste(new, box5)\n",
    "            original_image.paste(new, box6)\n",
    "            original_image.paste(new, box7)\n",
    "            original_image.paste(new, box8)\n",
    "            original_image.paste(new, box9)\n",
    "\n",
    "            d = ImageDraw.Draw(original_image)\n",
    "\n",
    "            d.rectangle([(new_width, new_height), (2 * new_width, 2 * new_height)], fill=(255, 255, 255, 255))\n",
    "          \n",
    "       \n"
   ]
  },
  {
   "cell_type": "markdown",
   "metadata": {},
   "source": [
    "# Refrences"
   ]
  },
  {
   "cell_type": "markdown",
   "metadata": {},
   "source": [
    "https://github.com/Xilinx/PYNQ-HelloWorld\n",
    "\n",
    "https://github.com/Xilinx/PYNQ/blob/master/docs/source/jupyter_notebooks_advanced_features.ipynb\n",
    "\n",
    "https://pillow.readthedocs.io/en/3.1.x/index.html\n",
    "\n",
    "https://github.com/Xilinx/PYNQ/blob/master/docs/source/python_environment.ipynb"
   ]
  }
 ],
 "metadata": {
  "kernelspec": {
   "display_name": "Python 3",
   "language": "python",
   "name": "python3"
  },
  "language_info": {
   "codemirror_mode": {
    "name": "ipython",
    "version": 3
   },
   "file_extension": ".py",
   "mimetype": "text/x-python",
   "name": "python",
   "nbconvert_exporter": "python",
   "pygments_lexer": "ipython3",
   "version": "3.6.5"
  }
 },
 "nbformat": 4,
 "nbformat_minor": 2
}
