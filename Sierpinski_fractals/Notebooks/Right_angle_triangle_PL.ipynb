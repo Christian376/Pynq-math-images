{
 "cells": [
  {
   "cell_type": "markdown",
   "metadata": {},
   "source": [
    "# Right Angled Triangle Fractal (Programmable logic)"
   ]
  },
  {
   "attachments": {
    "RAT_allign.PNG": {
     "image/png": "[encoded data removed]"
    },
    "Right_angle_sier.PNG": {
     "image/png": "[encoded data removed]"
    }
   },
   "cell_type": "markdown",
   "metadata": {},
   "source": [
    "This notebook will illustrate a right angled triangle fractal that behaves similary to the Sierpinski's triangle fractal. \n",
    "\n",
    "Like Sierpinkski's triangle this fractal is created, through recursion, by halfing the size of the original triangle's height and length. \n",
    "\n",
    "![Right_angle_sier.PNG](attachment:Right_angle_sier.PNG)\n",
    "\n",
    "These new lengths are the size of our new triangles which we need 3 of. They are alligned as shown, note how the allignment has the same dimensions as the original triangle \n",
    "\n",
    "![RAT_allign.PNG](attachment:RAT_allign.PNG)\n",
    "\n",
    "NOTE: This Notebook makes use of the resizer IP, as seen in the Pynq community example \"Hello world resizer\". See refrences in final cell"
   ]
  },
  {
   "cell_type": "markdown",
   "metadata": {},
   "source": [
    "# Import libraries"
   ]
  },
  {
   "cell_type": "code",
   "execution_count": 1,
   "metadata": {},
   "outputs": [
    {
     "data": {
      "application/javascript": [
       "\n",
       "require(['notebook/js/codecell'], function(codecell) {\n",
       "  codecell.CodeCell.options_default.highlight_modes[\n",
       "      'magic_text/x-csrc'] = {'reg':[/^%%microblaze/]};\n",
       "  Jupyter.notebook.events.one('kernel_ready.Kernel', function(){\n",
       "      Jupyter.notebook.get_cells().map(function(cell){\n",
       "          if (cell.cell_type == 'code'){ cell.auto_highlight(); } }) ;\n",
       "  });\n",
       "});\n"
      ]
     },
     "metadata": {},
     "output_type": "display_data"
    }
   ],
   "source": [
    "from ipywidgets import *\n",
    "from PIL import Image\n",
    "import numpy as np\n",
    "from IPython.display import display\n",
    "from pynq import Xlnk\n",
    "from pynq import Overlay"
   ]
  },
  {
   "cell_type": "markdown",
   "metadata": {},
   "source": [
    "# Download resizer IP bitstream"
   ]
  },
  {
   "cell_type": "code",
   "execution_count": 2,
   "metadata": {},
   "outputs": [],
   "source": [
    "resize_design = Overlay(\n",
    "    \"../bitstream/resizer.bit\")"
   ]
  },
  {
   "cell_type": "markdown",
   "metadata": {},
   "source": [
    "Create DMA and Resizer IP objects"
   ]
  },
  {
   "cell_type": "code",
   "execution_count": 3,
   "metadata": {},
   "outputs": [],
   "source": [
    "dma = resize_design.axi_dma_0\n",
    "resizer = resize_design.resize_accel_0"
   ]
  },
  {
   "cell_type": "markdown",
   "metadata": {},
   "source": [
    "# Create an Image object using PIL in SW"
   ]
  },
  {
   "cell_type": "markdown",
   "metadata": {},
   "source": [
    "Load in the right angled triangle image from the image folder. A PIL image object is also created."
   ]
  },
  {
   "cell_type": "code",
   "execution_count": 4,
   "metadata": {},
   "outputs": [
    {
     "data": {
      "text/plain": [
       "<PixelAccess at 0xae82b9b0>"
      ]
     },
     "execution_count": 4,
     "metadata": {},
     "output_type": "execute_result"
    }
   ],
   "source": [
    "image_path = \"images/RAT.png\"\n",
    "original_image = Image.open(image_path)\n",
    "original_image.load()"
   ]
  },
  {
   "cell_type": "markdown",
   "metadata": {},
   "source": [
    "# Create pixel array"
   ]
  },
  {
   "cell_type": "markdown",
   "metadata": {},
   "source": [
    "The following line is used to tell Jupyter that the image should only be 3 components wide. All components holds the same data. We select the first three components. \n",
    "\n",
    "Numpy is used to create the array of pixels"
   ]
  },
  {
   "cell_type": "code",
   "execution_count": 5,
   "metadata": {},
   "outputs": [],
   "source": [
    "input_array = np.array(original_image)[:,:,0:3]"
   ]
  },
  {
   "cell_type": "markdown",
   "metadata": {},
   "source": [
    "# Display original image"
   ]
  },
  {
   "cell_type": "code",
   "execution_count": 6,
   "metadata": {},
   "outputs": [
    {
     "data": {
      "image/png": "[encoded data removed]",
      "text/plain": [
       "<PIL.Image.Image image mode=RGB size=360x360 at 0xAE759C90>"
      ]
     },
     "metadata": {},
     "output_type": "display_data"
    }
   ],
   "source": [
    "input_image = Image.fromarray(input_array)\n",
    "display(input_image)"
   ]
  },
  {
   "cell_type": "markdown",
   "metadata": {},
   "source": [
    "Note the original image size here as the final fractal image should be the same size, as we are essentially filling the original image with the resized images."
   ]
  },
  {
   "cell_type": "code",
   "execution_count": 7,
   "metadata": {},
   "outputs": [
    {
     "name": "stdout",
     "output_type": "stream",
     "text": [
      "Image size: 360x360 pixels.\n"
     ]
    }
   ],
   "source": [
    "old_width, old_height = original_image.size\n",
    "print(\"Image size: {}x{} pixels.\".format(old_width, old_height))"
   ]
  },
  {
   "cell_type": "code",
   "execution_count": 8,
   "metadata": {},
   "outputs": [],
   "source": [
    "xlnk = Xlnk()   "
   ]
  },
  {
   "cell_type": "code",
   "execution_count": 9,
   "metadata": {},
   "outputs": [],
   "source": [
    "resizer.write(0x00,0x00) # reset IP"
   ]
  },
  {
   "cell_type": "markdown",
   "metadata": {},
   "source": [
    "# Create slider "
   ]
  },
  {
   "cell_type": "markdown",
   "metadata": {},
   "source": [
    "A slider is created so the user can select the number of iterations they want to execute for the fractal. To operate the slider run this cell then select desired number."
   ]
  },
  {
   "cell_type": "code",
   "execution_count": 10,
   "metadata": {},
   "outputs": [
    {
     "data": {
      "application/vnd.jupyter.widget-view+json": {
       "model_id": "c2387ceb6c34405ab210e82b27047502",
       "version_major": 2,
       "version_minor": 0
      },
      "text/plain": [
       "interactive(children=(IntSlider(value=1, description='limit', max=4, min=1), Output()), _dom_classes=('widget-…"
      ]
     },
     "metadata": {},
     "output_type": "display_data"
    }
   ],
   "source": [
    "def update(limit):\n",
    "    \n",
    "    limit = limit\n",
    "    \n",
    "    \n",
    "\n",
    "limit=widgets.IntSlider(min=1,max=4,step=1)\n",
    "\n",
    "interact(update, limit=limit);"
   ]
  },
  {
   "cell_type": "markdown",
   "metadata": {},
   "source": [
    "We now cast the slider limit value to an integer, this way it can be used for the number of times the for loop executes"
   ]
  },
  {
   "cell_type": "code",
   "execution_count": 11,
   "metadata": {},
   "outputs": [],
   "source": [
    "limitIntValue = int(limit.value)"
   ]
  },
  {
   "cell_type": "markdown",
   "metadata": {},
   "source": [
    "# Create fractal"
   ]
  },
  {
   "cell_type": "markdown",
   "metadata": {},
   "source": [
    "In the following cell, first, we can see that the limit value obtained from the slider in the previous cell is set as the iterations for a for loop. Based of this number the for loop will execute and resize our image the required number of times. \n",
    "\n",
    "The box variables are a tuple that sets the co-ordinates of the resized images. We then paste these boxes to the original image to create our fractal. "
   ]
  },
  {
   "cell_type": "code",
   "execution_count": 12,
   "metadata": {},
   "outputs": [],
   "source": [
    "for n in range (limitIntValue):\n",
    "    \n",
    "    resizer.write(0x00,0x00)        # Reset IP\n",
    "    \n",
    "    \n",
    "    new_width = int(old_width/2)    # Determine new height and width for resized image\n",
    "    new_height = int(old_height/2)\n",
    "\n",
    "    resizer.write(0x10, old_height)\n",
    "    resizer.write(0x18, old_width)\n",
    "    resizer.write(0x20, new_height)\n",
    "    resizer.write(0x28, new_width)\n",
    "        \n",
    "    in_buffer = xlnk.cma_array(shape=(old_height, old_width, 3), dtype=np.uint8, cacheable=1)\n",
    "    out_buffer = xlnk.cma_array(shape=(new_height, new_width, 3), dtype=np.uint8, cacheable=1)\n",
    "    \n",
    "    in_buffer[:,:,0:3] = np.array(original_image)[:,:,0:3]\n",
    "      \n",
    "    dma.recvchannel.transfer(out_buffer)\n",
    "    dma.sendchannel.transfer(in_buffer)\n",
    "    resizer.write(0x00,0x1) # start\n",
    "    dma.sendchannel.wait()\n",
    "    dma.recvchannel.wait()  \n",
    "    resizer.write(0x00,0x00) # reset\n",
    "    \n",
    "    xlnk.xlnk_reset()\n",
    "    \n",
    "    out_buffer.shape\n",
    "    \n",
    "    result = Image.fromarray(np.array(out_buffer, dtype=np.uint8))\n",
    "    np.array(result).shape\n",
    "    \n",
    "    # Create variables to allign top triangle with bottom two\n",
    "            \n",
    "    u = int(new_width / 2)\n",
    "    v = int(3 * new_width / 2)\n",
    "            \n",
    "    # Create variables to set box locations\n",
    "            \n",
    "    box = (0, 0, new_width, new_height)\n",
    "    box2 = (0, new_height, new_width, 2 * new_height)\n",
    "    box3 = (new_width, new_height, 2 * new_width, 2 * new_height)\n",
    "\n",
    "    # Paste resized images in box locations\n",
    "        \n",
    "    original_image.paste(result, box)\n",
    "    original_image.paste(result, box2)\n",
    "    original_image.paste(result, box3)"
   ]
  },
  {
   "cell_type": "markdown",
   "metadata": {},
   "source": [
    "# Display fractal"
   ]
  },
  {
   "cell_type": "markdown",
   "metadata": {},
   "source": [
    "We can now display our fractal. The image size is displayed to show that the new fractal iterations fits within the original image. "
   ]
  },
  {
   "cell_type": "code",
   "execution_count": 13,
   "metadata": {},
   "outputs": [
    {
     "data": {
      "image/png": "[encoded data removed]",
      "text/plain": [
       "<PIL.PngImagePlugin.PngImageFile image mode=RGBA size=360x360 at 0xB3A96DF0>"
      ]
     },
     "metadata": {},
     "output_type": "display_data"
    },
    {
     "name": "stdout",
     "output_type": "stream",
     "text": [
      "Image size: 360x360 pixels.\n"
     ]
    }
   ],
   "source": [
    "display(original_image)\n",
    "print(\"Image size: {}x{} pixels.\".format(old_width, old_height))"
   ]
  },
  {
   "cell_type": "code",
   "execution_count": 15,
   "metadata": {},
   "outputs": [
    {
     "name": "stdout",
     "output_type": "stream",
     "text": [
      "10 loops, best of 3: 71.1 ms per loop\n"
     ]
    }
   ],
   "source": [
    "%%timeit\n",
    "\n",
    "for n in range (limitIntValue):\n",
    "    \n",
    "    resizer.write(0x00,0x00)\n",
    "    resize_factor = 2\n",
    "    \n",
    "    new_width = int(old_width/resize_factor)\n",
    "    new_height = int(old_height/resize_factor)\n",
    "\n",
    "    resizer.write(0x10, old_height)\n",
    "    resizer.write(0x18, old_width)\n",
    "    resizer.write(0x20, new_height)\n",
    "    resizer.write(0x28, new_width)\n",
    "        \n",
    "    in_buffer = xlnk.cma_array(shape=(old_height, old_width, 3), dtype=np.uint8, cacheable=1)\n",
    "    out_buffer = xlnk.cma_array(shape=(new_height, new_width, 3), dtype=np.uint8, cacheable=1)\n",
    "    \n",
    "    in_buffer[:,:,0:3] = np.array(original_image)[:,:,0:3]\n",
    "      \n",
    "    dma.recvchannel.transfer(out_buffer)\n",
    "    dma.sendchannel.transfer(in_buffer)\n",
    "    resizer.write(0x00,0x1) # start\n",
    "    dma.sendchannel.wait()\n",
    "    dma.recvchannel.wait()  \n",
    "    resizer.write(0x00,0x00) # reset\n",
    "    \n",
    "    xlnk.xlnk_reset()\n",
    "    \n",
    "    out_buffer.shape\n",
    "    \n",
    "    result = Image.fromarray(np.array(out_buffer, dtype=np.uint8))\n",
    "    np.array(result).shape\n",
    "    \n",
    "    # align centers of both images\n",
    "            \n",
    "    u = int(new_width / 2)\n",
    "    v = int(3 * new_width / 2)\n",
    "            \n",
    "    # Create variables to set box locations\n",
    "            \n",
    "    box = (0, 0, new_width, new_height)\n",
    "    box2 = (0, new_height, new_width, 2 * new_height)\n",
    "    box3 = (new_width, new_height, 2 * new_width, 2 * new_height)\n",
    "\n",
    "    \n",
    "\n",
    "    # Paste resized images in box locations\n",
    "        \n",
    "    original_image.paste(result, box)\n",
    "    original_image.paste(result, box2)\n",
    "    original_image.paste(result, box3)"
   ]
  },
  {
   "cell_type": "markdown",
   "metadata": {},
   "source": [
    "# Refrences"
   ]
  },
  {
   "cell_type": "markdown",
   "metadata": {},
   "source": [
    "https://github.com/Xilinx/PYNQ-HelloWorld\n",
    "\n",
    "https://github.com/Xilinx/PYNQ/blob/master/docs/source/jupyter_notebooks_advanced_features.ipynb\n",
    "\n",
    "https://pillow.readthedocs.io/en/3.1.x/index.html\n",
    "\n",
    "https://github.com/Xilinx/PYNQ/blob/master/docs/source/python_environment.ipynb"
   ]
  }
 ],
 "metadata": {
  "kernelspec": {
   "display_name": "Python 3",
   "language": "python",
   "name": "python3"
  },
  "language_info": {
   "codemirror_mode": {
    "name": "ipython",
    "version": 3
   },
   "file_extension": ".py",
   "mimetype": "text/x-python",
   "name": "python",
   "nbconvert_exporter": "python",
   "pygments_lexer": "ipython3",
   "version": "3.6.5"
  }
 },
 "nbformat": 4,
 "nbformat_minor": 2
}
