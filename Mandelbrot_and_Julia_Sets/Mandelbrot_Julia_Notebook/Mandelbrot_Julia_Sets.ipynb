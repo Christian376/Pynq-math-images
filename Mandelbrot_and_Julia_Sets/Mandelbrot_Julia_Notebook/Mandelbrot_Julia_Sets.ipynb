{
 "cells": [
  {
   "cell_type": "markdown",
   "metadata": {},
   "source": [
    "# Generating the Mandelbrot and Julia Sets\n",
    "\n",
    "#### Written by: David Sutherland - Group C"
   ]
  },
  {
   "cell_type": "markdown",
   "metadata": {},
   "source": [
    "### Contents\n",
    "\n",
    "1. [Introduction](#Introduction)\n",
    "\n",
    "2. [System Generator Architecture](#System-Generator-Architecture)\n",
    "\n",
    "3. [Mandelbrot Set Jupyter Implementation](#Mandelbrot-Set-Jupyter-Implementation)\n",
    "\n",
    "4. [Julia Set Jupyter Implementation](#Julia-Set-Jupyter-Implementation)\n",
    "\n",
    "5. [References](#References)"
   ]
  },
  {
   "cell_type": "markdown",
   "metadata": {},
   "source": [
    "### Introduction"
   ]
  },
  {
   "cell_type": "markdown",
   "metadata": {},
   "source": [
    "The Mandelbrot and Julia sets are two of the most famous fractals. They both revolve around iterating the equation $ z_{n+1} = z_{n}^{2} + c $. If the value of $z_{n+1}$ tends to infinity then the chosen point is not in the set. $^{[1]}$\n",
    "\n",
    "In the Mandelbrot set $z_{0}$ is always set to 0 and the value for $c$ varies. \n",
    "\n",
    "In the Julia set $c$ is set to a constant complex number and $z_{0}$ varies. Different values for $c$ result in different, interesting patterns being produced.\n",
    "\n",
    "In this notebook both the Mandelbrot and Julia sets will be generated using an IP core on the PYNQ board that has been developed in System Generator and Vivado. \n",
    "\n",
    "An explanation of the System Generator architecture will be given as well as Python code.\n",
    "\n",
    "User interactivity is also enabled which will allow the user to change certain properties for the generation of the Mandelbrot Set and Julia Set."
   ]
  },
  {
   "cell_type": "markdown",
   "metadata": {},
   "source": [
    "# System Generator Architecture"
   ]
  },
  {
   "cell_type": "markdown",
   "metadata": {},
   "source": [
    "The block diagram below shows the architecture used to generate the values for both sets by implementing the equation $ z_{n+1} = z_{n}^{2} + c $. \n",
    "\n"
   ]
  },
  {
   "cell_type": "markdown",
   "metadata": {},
   "source": [
    "![](images/mandelbrotsysgen.PNG)"
   ]
  },
  {
   "cell_type": "markdown",
   "metadata": {},
   "source": [
    "The system is built this way as $z_{n}$ could be a complex number and so squaring it has to be done differently compared to a real number. The working for finding the square of a complex number is as follows:\n",
    "\n",
    "$$z = a + jb$$\n",
    "\n",
    "$$z^{2} = (a + jb)^{2}$$\n",
    "\n",
    "$$z^{2} = a^{2} + j2ab + j^{2}b^{2}$$ \n",
    "\n",
    "$$z^{2} = a^{2} + j2ab - b^{2}$$ \n",
    "\n",
    "$$z^{2} = (a^{2} - b^{2}) + j(2ab) $$ \n",
    "\n",
    "Then adding a complex number $c = x + jy$ to this gives:\n",
    "\n",
    "$$ z_{n+1} = z_{n}^{2} + c $$\n",
    "\n",
    "$$ z_{n+1} = (a^{2} - b^{2}) + j(2ab) + (x+jy) $$\n",
    "\n",
    "$$ z_{n+1} = (a^{2} - b^{2} + x) + j(2ab + y) $$\n",
    "\n",
    "This is the equation that has been built in the System Generator model.\n",
    "\n",
    "The Gateway In blocks are implemented using the AXI4-Lite interface. "
   ]
  },
  {
   "cell_type": "markdown",
   "metadata": {},
   "source": [
    "The block diagram below shows the System Generator architecture used to calculate the magnitude of a complex number. This was required to determine if the current value being iterated was bounded or not. "
   ]
  },
  {
   "cell_type": "markdown",
   "metadata": {},
   "source": [
    "![](images/magnitudesysgen.PNG)"
   ]
  },
  {
   "cell_type": "markdown",
   "metadata": {},
   "source": [
    "Initially this was attempted using the sqrt block in System Generator however this was not suitable as it required floating point operations which would take several clock cycles to compute on an FPGA. A magnitude approximation method was then chosen as it meant the operation would run quicker. This method does have a lower accuracy compared to the floating point method however this was not an issue as the answer did not need to be extremely accurate - an approximation would suffice.\n",
    "\n",
    "The magnitude approximation equation is as follows:\n",
    "$|z|≈\\alpha Max(a,b)+\\beta Min(a,b) $\n",
    "\n",
    "The values for $\\alpha$ and $\\beta$ are chosen to produce the lowest error. Richard G Lyons proved that the values can be set to the following $^{[2]}$:\n",
    "\n",
    "$$\\alpha=\\frac{2cos(\\frac{π}{8})}{1+cos(\\frac{π}{8})} = 0.9604$$\n",
    "\n",
    "$$\\beta=\\frac{2sin(\\frac{π}{8})}{1+cos(\\frac{π}{8})} = 0.3978$$\n",
    "\n",
    "The CMult blocks are not exactly these numbers due to not being able to precisely represent these numbers because the input is only 9 fractional bits but this is a close enough approximation for this scenario.\n",
    "\n",
    "In the System Generator model a relational block is used to determine which number is larger and then two multiplexers are used to correctly multiply the greater and smaller numbers by $\\alpha$ and $\\beta$ respectively. The two results from this are then added together to obtain the magnitude approximation."
   ]
  },
  {
   "cell_type": "markdown",
   "metadata": {},
   "source": [
    "# Mandelbrot Set Jupyter Implementation"
   ]
  },
  {
   "cell_type": "markdown",
   "metadata": {},
   "source": [
    "This section will detail how to generate the Mandelbrot Set using the IP core developed from the design above. Firstly, the overlay class needs to be imported:"
   ]
  },
  {
   "cell_type": "code",
   "execution_count": null,
   "metadata": {},
   "outputs": [],
   "source": [
    "from pynq import Overlay"
   ]
  },
  {
   "cell_type": "markdown",
   "metadata": {},
   "source": [
    "Next the overlay needs to be programmed onto the PYNQ-Z2 board and the Tcl file will be parsed to understand the contents of the overlay. A warning may appear but this can be ignored:"
   ]
  },
  {
   "cell_type": "code",
   "execution_count": null,
   "metadata": {},
   "outputs": [],
   "source": [
    "ol = Overlay(\"assets/mandelbrot_design_wrapper.bit\")"
   ]
  },
  {
   "cell_type": "markdown",
   "metadata": {},
   "source": [
    "Running the next line of code will display a file containing information about the overlay. This file identifies the IP to be called mandelbrot_full_0 in the DefaultIP driver."
   ]
  },
  {
   "cell_type": "code",
   "execution_count": null,
   "metadata": {},
   "outputs": [],
   "source": [
    "ol?"
   ]
  },
  {
   "cell_type": "markdown",
   "metadata": {},
   "source": [
    "The IP will be assigned to a more convenient name, 'mandip':"
   ]
  },
  {
   "cell_type": "code",
   "execution_count": null,
   "metadata": {},
   "outputs": [],
   "source": [
    "mandip = ol.mandelbrot_full_0"
   ]
  },
  {
   "cell_type": "markdown",
   "metadata": {},
   "source": [
    "The next cell defines a function called 'to_signed' which is used to read back negative values from the PYNQ board as Python naturally interprets the read values as unsigned."
   ]
  },
  {
   "cell_type": "code",
   "execution_count": null,
   "metadata": {},
   "outputs": [],
   "source": [
    "    def to_signed(val,b):\n",
    "         signedVal = val-(2**b)*int(str((val)>>b-1))\n",
    "         return signedVal"
   ]
  },
  {
   "cell_type": "markdown",
   "metadata": {},
   "source": [
    "The next cell defines the Mandelbrot function which uses the IP to find the values which are in the Mandelbrot Set.\n",
    "\n",
    "Currently it is not possible to write real numbers to the IP so the values are multiplied by $2^{9}$ as a workaround and because the IP uses 9 fractional bits. This is why the System Generator model contains reinterpret blocks as they convert this value back to the actual one to use. When the values are read back they are first changed to signed and then multiplied by $2^{-9}$ to get the correct value.\n",
    "\n",
    "The magnitude does not need to be changed to signed because it will always be a positive value."
   ]
  },
  {
   "cell_type": "code",
   "execution_count": null,
   "metadata": {},
   "outputs": [],
   "source": [
    "def mandelbrot(c_real, c_imag, MAX_ITER):\n",
    "    z_real = 0 #These values are always set to 0 when the function is called\n",
    "    z_imag = 0\n",
    "    n = 0\n",
    "    magnitude = 0\n",
    "    while magnitude <= 2 and n < MAX_ITER: #MAX_ITER is chosen by user\n",
    "        mandip.write(0x00,int(z_real*(2**9)))\n",
    "        mandip.write(0x04,int(z_imag*(2**9))) \n",
    "        mandip.write(0x08,int(c_real*(2**9))) \n",
    "        mandip.write(0x0C,int(c_imag*(2**9))) \n",
    "        z_real = to_signed(int(mandip.read(0x18)),32) * 2**-9 #new zre value for next iteration\n",
    "        z_imag = to_signed(int(mandip.read(0x14)),32) * 2**-9 #new zim value for next iteration\n",
    "        magnitude = mandip.read(0x10) * 2**-9 #magnitude output\n",
    "        n += 1 #Move to next iteration\n",
    "    return n"
   ]
  },
  {
   "cell_type": "markdown",
   "metadata": {},
   "source": [
    "Once the next cell is ran you will be able to use a slider to change the maximum number of iterations that the 'mandelbrot' function goes through.\n",
    "\n",
    "*You do not need to re-run this cell once you have chosen your value*"
   ]
  },
  {
   "cell_type": "code",
   "execution_count": null,
   "metadata": {},
   "outputs": [],
   "source": [
    "from ipywidgets import *\n",
    "def update(Max_iters):\n",
    "    \n",
    "    Max_iters = Max_iters\n",
    "    \n",
    "Max_iters = widgets.IntSlider(min = 5, max = 100,step = 1)\n",
    "\n",
    "interact(update,Max_iters = Max_iters)\n",
    "print(\"The higher the maximum number of iterations, the more defined the set will be. Recommended value: 25\")"
   ]
  },
  {
   "cell_type": "markdown",
   "metadata": {},
   "source": [
    "The next cell goes through every pixel in the image and converts it to a complex number. This complex number is used as $c$ and is used in the 'mandelbrot' function to find out if it is in the set. If the maximum number of iterations is reached then that value of $c$ is in the set. The value returned by the function determines the colour of that pixel. The black pixels are the complex numbers that are in the Mandelbrot Set\n",
    "\n",
    "The length of time to run depends on the size of the image and the maximum number of iterations chosen in the previous cell.\n",
    "\n",
    "*Code adapted from $^{[3]}$*"
   ]
  },
  {
   "cell_type": "code",
   "execution_count": null,
   "metadata": {},
   "outputs": [],
   "source": [
    "from PIL import Image, ImageDraw #Import library used to draw fractal\n",
    "MAX_ITER = Max_iters.value #Value taken from Max_iters slider\n",
    "\n",
    "# Image size (pixels)\n",
    "WIDTH = 150\n",
    "HEIGHT = 100\n",
    "\n",
    "# Plot window\n",
    "RE_START = -2\n",
    "RE_END = 1\n",
    "IM_START = -1\n",
    "IM_END = 1\n",
    "\n",
    "im = Image.new('HSV', (WIDTH, HEIGHT), (0, 0, 0)) #Configure image to specified size and use \n",
    "draw = ImageDraw.Draw(im)\n",
    "\n",
    "for x in range(0, WIDTH): #Go through every pixel using nested loop\n",
    "    for y in range(0, HEIGHT): \n",
    "        \n",
    "        # Convert pixel coordinate to complex number\n",
    "        creal = RE_START + (x / WIDTH) * (RE_END - RE_START)\n",
    "        cimag = IM_START + (y / HEIGHT) * (IM_END - IM_START)\n",
    "        \n",
    "        m = mandelbrot(creal,cimag, MAX_ITER) # Compute the number of iterations using mandelbrot function\n",
    "        \n",
    "        hue = int(255 * m / MAX_ITER) # The colour depends on the number of iterations taken for the number to become unbounded\n",
    "        saturation = 255\n",
    "        value = 255 if m < MAX_ITER else 0 #If MAX_ITER is reached then the colour is set to black (In the set)\n",
    "        # Plot the point\n",
    "        draw.point([x, y], (hue, saturation, value))\n",
    "\n",
    "im.convert('RGB').save('images/mandelbrotoutput.PNG', 'PNG') #Save image - you can change this path if you wish"
   ]
  },
  {
   "cell_type": "markdown",
   "metadata": {},
   "source": [
    "The next cell will display your generated fractal once ran:"
   ]
  },
  {
   "cell_type": "code",
   "execution_count": null,
   "metadata": {},
   "outputs": [],
   "source": [
    "from IPython.display import Image\n",
    "Image(filename='images/mandelbrotoutput.PNG') #If you changed the path in the previous cell you need to change this one too"
   ]
  },
  {
   "cell_type": "markdown",
   "metadata": {},
   "source": [
    "If you change the values in the plot window section you will effectively be able to zoom into parts of the set to discover some interesting properties, one being that if you zoom into some of the 'spikes' coming out of the main circle you may actually see the original image again! This means that the Mandelbrot Set is infinite and you could theoretically zoom in forever on the boundaries of the set. Unfortunately zooming in too far in this notebook will result in a pixelated image.\n",
    "\n",
    "If you chose to run the code with a large image size and high number of maximum iterations you will have discovered that this look quite a long time to run! This is because AXI4-Lite is only capable of single beat transfers meaning only one piece of data can be transferred at a time so it will be slow to process large amounts of data like the Mandelbrot function needs to do. "
   ]
  },
  {
   "cell_type": "markdown",
   "metadata": {},
   "source": [
    "# Julia Set Jupyter Implementation "
   ]
  },
  {
   "cell_type": "markdown",
   "metadata": {},
   "source": [
    "This section will detail how to generate a Julia Set fractal. Each point in the Mandelbrot Set is associated with it's own Julia Set. \n",
    "\n",
    "Since the equation used in the Julia set is the same, the previous IP can be re-used.\n",
    "\n",
    "Because the IP used is the same we can go straight to defining the Julia set function. This function is slightly different to the Mandelbrot Set function as there are more arguments. "
   ]
  },
  {
   "cell_type": "code",
   "execution_count": null,
   "metadata": {},
   "outputs": [],
   "source": [
    "def julia(c_real,c_imag,z_real,z_imag, MAX_ITERS):\n",
    "    magnitude = 0\n",
    "    n = 0\n",
    "    while magnitude <= 2 and n < MAX_ITERS:\n",
    "        mandip.write(0x00,int(z_real*(2**9))) #zre\n",
    "        mandip.write(0x04,int(z_imag*(2**9))) #zim\n",
    "        mandip.write(0x08,int(c_real*(2**9))) #cre\n",
    "        mandip.write(0x0C,int(c_imag*(2**9))) #cim\n",
    "        z_real = to_signed(int(mandip.read(0x18)),32) * 2**-9 #new zre value for next iteration\n",
    "        z_imag = to_signed(int(mandip.read(0x14)),32) * 2**-9 #new zim value for next iteration\n",
    "        magnitude = mandip.read(0x10) * 2**-9 #mag out\n",
    "        n += 1\n",
    "    return n "
   ]
  },
  {
   "cell_type": "markdown",
   "metadata": {},
   "source": [
    "The following cell will let you choose a value for the complex number $c$. Changing this value will change how the fractal looks. Some values are suggested which can produce some interesting fractals. You can use the arrow keys to choose the desired value when you get near to it.\n",
    "\n",
    "*You do not need to re-run this cell once you have chosen your values*"
   ]
  },
  {
   "cell_type": "code",
   "execution_count": null,
   "metadata": {},
   "outputs": [],
   "source": [
    "from ipywidgets import *\n",
    "def update(c_real, c_imag):\n",
    "    \n",
    "    c_real = c_real\n",
    "    c_imag = c_imag\n",
    "    \n",
    "c_real = widgets.FloatSlider(min = -2, max = 1,step = 0.01)\n",
    "c_imag = widgets.FloatSlider(min = -2, max = 1,step = 0.01)\n",
    "\n",
    "interact(update,c_real = c_real, c_imag=c_imag)\n",
    "\n",
    "print(\"Some interesting values to try out: \")\n",
    "print(\"c = -1 + j0\")\n",
    "print(\"c = 0.37 + j0.1\")\n",
    "print(\"c = -0.4 - j0.59\")\n",
    "print(\"c = -0.54 + j0.54\")"
   ]
  },
  {
   "cell_type": "code",
   "execution_count": null,
   "metadata": {},
   "outputs": [],
   "source": [
    "from PIL import Image, ImageDraw #Import library used to draw fractal\n",
    "\n",
    "creal = c_real.value #Get complex number values from previous cell\n",
    "cimag = c_imag.value\n",
    "\n",
    "# Image size (pixels)\n",
    "WIDTH = 150\n",
    "HEIGHT = 100\n",
    "\n",
    "# Plot window - reduce these values to zoom in\n",
    "RE_START = -2\n",
    "RE_END = 2\n",
    "IM_START = -1.2\n",
    "IM_END = 1.2\n",
    "\n",
    "MAX_ITER = 55 #max number of iterations used in julia function - feel free to change this\n",
    "\n",
    "im = Image.new('HSV', (WIDTH, HEIGHT), (0, 0, 0)) \n",
    "draw = ImageDraw.Draw(im)\n",
    "\n",
    "for x in range(0, WIDTH): #nested loop to go through every pixel in image\n",
    "    for y in range(0, HEIGHT):\n",
    "        \n",
    "        # Convert pixel coordinate to complex number\n",
    "        z0real = RE_START + (x / WIDTH) * (RE_END - RE_START)\n",
    "        z0imag = IM_START + (y / HEIGHT) * (IM_END - IM_START)\n",
    "        \n",
    "        # Compute the number of iterations\n",
    "        m = julia(creal,cimag,z0real, z0imag, MAX_ITER)\n",
    "        \n",
    "        hue = int(255*(m/MAX_ITER)) #colour of pixel depends on value of m - the number of iterations needed to become unbound\n",
    "        saturation = 255\n",
    "        value = 255 if m < MAX_ITER else 0\n",
    "\n",
    "        draw.point([x, y], (hue, saturation, value)) #set current pixel to the colour determined above\n",
    "\n",
    "im.convert('RGB').save('images/juliaoutput.PNG', 'PNG') #save image - you can change this path if you wish"
   ]
  },
  {
   "cell_type": "markdown",
   "metadata": {},
   "source": [
    "Run the next cell to display the generated Julia Set fractal:"
   ]
  },
  {
   "cell_type": "code",
   "execution_count": null,
   "metadata": {},
   "outputs": [],
   "source": [
    "from IPython.display import Image\n",
    "Image(filename='images/juliaoutput.PNG') #if you changed the path in the previous cell you will need to change this one too"
   ]
  },
  {
   "cell_type": "markdown",
   "metadata": {},
   "source": [
    "Be sure to experiment with changing the value for $c$ to find interesting designs.\n",
    "\n",
    "------------\n",
    "\n",
    "From reading the code you can see how the generation of the Julia Set differs from the Mandelbrot Set. In the Mandelbrot Set $z_{0}$ is always 0 and $c$ is the complex number to represent a pixel while in the Julia Set $z_{0}$ is the complex number converted from the current pixel and $c$ is a constant value.\n",
    "\n",
    "I hope you enjoyed going through this notebook and creating some interesting fractals!"
   ]
  },
  {
   "cell_type": "markdown",
   "metadata": {},
   "source": [
    "# References"
   ]
  },
  {
   "cell_type": "markdown",
   "metadata": {},
   "source": [
    "[1] http://www.alunw.freeuk.com/mandelbrotroom.html"
   ]
  },
  {
   "cell_type": "markdown",
   "metadata": {},
   "source": [
    "[2] Lyons, R., 2011. Understanding Digital Signal Processing. 2nd ed. Prentice Hall, pp.480-482."
   ]
  },
  {
   "cell_type": "markdown",
   "metadata": {},
   "source": [
    "[3] https://www.codingame.com/playgrounds/2358/how-to-plot-the-mandelbrot-set/adding-some-colors"
   ]
  }
 ],
 "metadata": {
  "kernelspec": {
   "display_name": "Python 3",
   "language": "python",
   "name": "python3"
  },
  "language_info": {
   "codemirror_mode": {
    "name": "ipython",
    "version": 3
   },
   "file_extension": ".py",
   "mimetype": "text/x-python",
   "name": "python",
   "nbconvert_exporter": "python",
   "pygments_lexer": "ipython3",
   "version": "3.6.5"
  }
 },
 "nbformat": 4,
 "nbformat_minor": 2
}
